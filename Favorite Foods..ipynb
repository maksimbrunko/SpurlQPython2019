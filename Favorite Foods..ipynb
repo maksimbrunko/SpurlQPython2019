{
 "cells": [
  {
   "cell_type": "code",
   "execution_count": 7,
   "metadata": {},
   "outputs": [
    {
     "name": "stdout",
     "output_type": "stream",
     "text": [
      "{'cheese', 'banana', 'apple'}\n"
     ]
    }
   ],
   "source": [
    "mylist = [\"banana\",\"apple\",\"cheese\"]\n",
    "print(mylist)"
   ]
  },
  {
   "cell_type": "code",
   "execution_count": 9,
   "metadata": {},
   "outputs": [
    {
     "name": "stdout",
     "output_type": "stream",
     "text": [
      "{'pickels', 'ice cream', 'milkshake'}\n"
     ]
    }
   ],
   "source": [
    "thistuple = (\"ice cream\",\"pickels\",\"milkshake\")\n",
    "print(thistuple)"
   ]
  },
  {
   "cell_type": "code",
   "execution_count": 10,
   "metadata": {},
   "outputs": [
    {
     "name": "stdout",
     "output_type": "stream",
     "text": [
      "{'I love ice cream'}\n"
     ]
    }
   ],
   "source": [
    "thisset ={\"I love ice cream\"}\n",
    "print( thisset)"
   ]
  },
  {
   "cell_type": "code",
   "execution_count": 13,
   "metadata": {},
   "outputs": [
    {
     "name": "stdout",
     "output_type": "stream",
     "text": [
      "{'make': 'maksim', 'model': 'programing', 'year': 2019}\n"
     ]
    }
   ],
   "source": [
    "thisdict = {\n",
    "    \"make\": \"maksim\",\n",
    "    \"model\":\"programing\",\n",
    "    \"year\": 2019\n",
    "}\n",
    "print(thisdict)"
   ]
  },
  {
   "cell_type": "code",
   "execution_count": null,
   "metadata": {},
   "outputs": [],
   "source": []
  }
 ],
 "metadata": {
  "kernelspec": {
   "display_name": "Python 3",
   "language": "python",
   "name": "python3"
  },
  "language_info": {
   "codemirror_mode": {
    "name": "ipython",
    "version": 3
   },
   "file_extension": ".py",
   "mimetype": "text/x-python",
   "name": "python",
   "nbconvert_exporter": "python",
   "pygments_lexer": "ipython3",
   "version": "3.7.3"
  }
 },
 "nbformat": 4,
 "nbformat_minor": 2
}
